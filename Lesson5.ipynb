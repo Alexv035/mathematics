{
 "cells": [
  {
   "cell_type": "code",
   "execution_count": 1,
   "metadata": {},
   "outputs": [],
   "source": [
    "%matplotlib inline\n",
    "import matplotlib.pyplot as plt\n",
    "import numpy as np\n",
    "import math\n",
    "from mpl_toolkits.mplot3d import Axes3D\n",
    "from matplotlib.pyplot import *\n",
    "import random\n",
    "import itertools\n",
    "from ipykernel import kernelapp as app"
   ]
  },
  {
   "cell_type": "code",
   "execution_count": 2,
   "metadata": {},
   "outputs": [
    {
     "name": "stdout",
     "output_type": "stream",
     "text": [
      "На рулетке число ероятность:  36\n",
      "Сыграем еще (да - 0, нет - 1: 1\n"
     ]
    }
   ],
   "source": [
    "# Task 1\n",
    "k = 0\n",
    "while k==0:\n",
    "    t =random.randint(0,36)\n",
    "    print(\"На рулетке число ероятность: \",t)\n",
    "    k = int(input(\"Сыграем еще (да - 0, нет - 1: \"))"
   ]
  },
  {
   "cell_type": "code",
   "execution_count": 3,
   "metadata": {},
   "outputs": [
    {
     "name": "stdout",
     "output_type": "stream",
     "text": [
      "Вероятность выпажения орешки P(A):  50.0 %\n",
      "Вероятность выпадения орла P(B):  50.0 %\n",
      "P(A) + P(B) =  100.0 %\n"
     ]
    }
   ],
   "source": [
    "# Tasks 2.1\n",
    "# Монетка\n",
    "range1 =7000\n",
    "a = []\n",
    "for i in range(range1):\n",
    "    a.append(random.randint(0,1))\n",
    "\n",
    "pa =round((a.count(1)/range1)*100,0)\n",
    "pb = round((a.count(0)/range1)*100,0)\n",
    "print(\"Вероятность выпажения орешки P(A): \",pa,\"%\")\n",
    "print(\"Вероятность выпадения орла P(B): \",pb,\"%\")\n",
    "print(\"P(A) + P(B) = \", pa + pb,\"%\")"
   ]
  },
  {
   "cell_type": "code",
   "execution_count": 4,
   "metadata": {},
   "outputs": [
    {
     "name": "stdout",
     "output_type": "stream",
     "text": [
      "[5 6 8 6 5 2 5 5 7 5]\n"
     ]
    },
    {
     "data": {
      "image/png": "[encoded data removed]",
      "text/plain": [
       "<Figure size 432x288 with 1 Axes>"
      ]
     },
     "metadata": {
      "needs_background": "light"
     },
     "output_type": "display_data"
    }
   ],
   "source": [
    "# Task 2.2\n",
    "n = 10\n",
    "k = 10\n",
    "b = np.random.randint(0, 1, n)\n",
    "#print(b)\n",
    "\n",
    "for i in range(k + 1):\n",
    "    a = np.random.randint(0, 2, n)\n",
    "    b = a + b\n",
    "print(b)\n",
    "\n",
    "t, x, patches = plt.hist(b, n)\n",
    "plt.xlabel('Number')\n",
    "plt.ylabel('Quantity')\n",
    "plt.title('Histogram')\n",
    "plt.show()\n"
   ]
  },
  {
   "cell_type": "code",
   "execution_count": 26,
   "metadata": {},
   "outputs": [
    {
     "name": "stdout",
     "output_type": "stream",
     "text": [
      "C(n,k):  6.0\n",
      "P(k):  9.375 %\n",
      "Результаты соотвествуют таблице ниже:\n",
      "0000\n",
      "0001\n",
      "0010\n",
      "0011\n",
      "0100\n",
      "0101\n",
      "0110\n",
      "0111\n",
      "1000\n",
      "1001\n",
      "1010\n",
      "1011\n",
      "1100\n",
      "1101\n",
      "1110\n",
      "1111\n"
     ]
    }
   ],
   "source": [
    "# Task 3.1\n",
    "n = 4\n",
    "k = 2\n",
    "\n",
    "c = math.factorial(n)/(math.factorial(k)*math.factorial(n-k))\n",
    "print(\"C(n,k): \", c)\n",
    "\n",
    "P = c / (2**(2*n-k))\n",
    "print(\"P(k): \", P*100, \"%\")\n",
    "print('Результаты соотвествуют таблице ниже:')\n",
    "\n",
    "for p in itertools.product(\"01\",repeat=n):\n",
    "    print(''.join(p))  \n",
    "    \n"
   ]
  },
  {
   "cell_type": "code",
   "execution_count": 27,
   "metadata": {},
   "outputs": [
    {
     "name": "stdout",
     "output_type": "stream",
     "text": [
      "C(n,k):  84.0\n",
      "P(k):  2.05078125 %\n"
     ]
    }
   ],
   "source": [
    "# Task 3.2\n",
    "n = 9\n",
    "k = 6\n",
    "\n",
    "c = math.factorial(n)/(math.factorial(k)*math.factorial(n-k))\n",
    "print(\"C(n,k): \", c)\n",
    "\n",
    "P = c / (2**(2*n-k))\n",
    "print(\"P(k): \", P*100, \"%\")"
   ]
  },
  {
   "cell_type": "code",
   "execution_count": 28,
   "metadata": {},
   "outputs": [
    {
     "name": "stdout",
     "output_type": "stream",
     "text": [
      "45\n",
      "46\n",
      "54\n",
      "56\n",
      "64\n",
      "65\n"
     ]
    }
   ],
   "source": [
    "# Task 4.1\n",
    "for p in itertools.permutations(\"456\",2):\n",
    "    print(''.join(str(x) for x in p))\n"
   ]
  },
  {
   "cell_type": "code",
   "execution_count": 30,
   "metadata": {},
   "outputs": [
    {
     "name": "stdout",
     "output_type": "stream",
     "text": [
      "45\n",
      "46\n",
      "56\n"
     ]
    }
   ],
   "source": [
    "for p in itertools.combinations(\"456\",2):\n",
    "    print(''.join(p))"
   ]
  },
  {
   "cell_type": "code",
   "execution_count": 40,
   "metadata": {},
   "outputs": [
    {
     "name": "stdout",
     "output_type": "stream",
     "text": [
      "0.7397311116255565 0.13471180456472281 0.911961434728465\n",
      "0.7397311116255572 0.13471180456472232 0.9119614347284647\n"
     ]
    },
    {
     "data": {
      "image/png": "[encoded data removed]",
      "text/plain": [
       "<Figure size 432x288 with 1 Axes>"
      ]
     },
     "metadata": {
      "needs_background": "light"
     },
     "output_type": "display_data"
    }
   ],
   "source": [
    "# Task 5\n",
    "n = 100\n",
    "r = 0.7\n",
    "x = np.random.rand(n)\n",
    "y = r*x + (1 - r)*np.random.rand(n)\n",
    "plt.plot(x, y, 'o')\n",
    "plt.xlabel('x')\n",
    "plt.ylabel('y')\n",
    "plt.grid(True)\n",
    "\n",
    "a = (np.sum(x)*np.sum(y) - n*np.sum(x*y))/(np.sum(x)*np.sum(x) - n*np.sum(x*x))\n",
    "b = (np.sum(y) - a*np.sum(x))/n\n",
    "r1 = np.sum((x - x.mean())*(y-y.mean()))/math.sqrt(np.sum((x-x.mean())**2)*np.sum((y-y.mean())**2))\n",
    "\n",
    "A = np.vstack([x, np.ones(len(x))]).T\n",
    "a1, b1 = np.linalg.lstsq(A, y,rcond = None)[0]\n",
    "r2 = np.corrcoef(x,y)[0,1]\n",
    "print(a, b, r1)\n",
    "print(a1, b1,r2)\n",
    "plt.plot([0, 1], [b, a + b])\n",
    "plt.show()"
   ]
  },
  {
   "cell_type": "code",
   "execution_count": null,
   "metadata": {},
   "outputs": [],
   "source": []
  }
 ],
 "metadata": {
  "kernelspec": {
   "display_name": "Python 3",
   "language": "python",
   "name": "python3"
  },
  "language_info": {
   "codemirror_mode": {
    "name": "ipython",
    "version": 3
   },
   "file_extension": ".py",
   "mimetype": "text/x-python",
   "name": "python",
   "nbconvert_exporter": "python",
   "pygments_lexer": "ipython3",
   "version": "3.7.5"
  }
 },
 "nbformat": 4,
 "nbformat_minor": 4
}
